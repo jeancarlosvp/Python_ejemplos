{
 "cells": [
  {
   "cell_type": "code",
   "execution_count": 11,
   "metadata": {},
   "outputs": [
    {
     "name": "stdout",
     "output_type": "stream",
     "text": [
      "Ingresa un entero :3\n",
      "NO, es muy alto\n",
      "Finish\n"
     ]
    }
   ],
   "source": [
    "number = 2\n",
    "guess = int(input('Ingresa un entero :'))\n",
    "if guess == number:\n",
    "    #Nuevo bloque empieza aqui\n",
    "    print(\"Felicitaciones,,, adivinaste\")\n",
    "elif guess > number:\n",
    "    # otro bloque\n",
    "    print (\"NO, es muy alto\")\n",
    "else:\n",
    "    print(\"NO, es muy bajo\")\n",
    "print(\"Finish\")"
   ]
  },
  {
   "cell_type": "code",
   "execution_count": null,
   "metadata": {
    "collapsed": true
   },
   "outputs": [],
   "source": []
  },
  {
   "cell_type": "code",
   "execution_count": 9,
   "metadata": {},
   "outputs": [
    {
     "name": "stdout",
     "output_type": "stream",
     "text": [
      "Ingrese un numero entero: 13\n",
      "Es un numero impar\n"
     ]
    }
   ],
   "source": [
    "num = int(input(\"Ingrese un numero entero: \"))\n",
    "if num%2==0:\n",
    "    print(\"Es un numero par\")\n",
    "else:\n",
    "    print(\"Es un numero impar\")\n",
    "    "
   ]
  },
  {
   "cell_type": "code",
   "execution_count": 7,
   "metadata": {},
   "outputs": [
    {
     "name": "stdout",
     "output_type": "stream",
     "text": [
      "Ingrese un numero entero: 14\n"
     ]
    }
   ],
   "source": [
    "a = int(input(\"Ingrese un numero entero: \"))"
   ]
  },
  {
   "cell_type": "code",
   "execution_count": 8,
   "metadata": {},
   "outputs": [
    {
     "data": {
      "text/plain": [
       "19"
      ]
     },
     "execution_count": 8,
     "metadata": {},
     "output_type": "execute_result"
    }
   ],
   "source": [
    "a + 5\n"
   ]
  },
  {
   "cell_type": "code",
   "execution_count": null,
   "metadata": {
    "collapsed": true
   },
   "outputs": [],
   "source": []
  },
  {
   "cell_type": "code",
   "execution_count": null,
   "metadata": {
    "collapsed": true
   },
   "outputs": [],
   "source": [
    "a=3\n",
    "if a==3:\n",
    "    print('it was true')"
   ]
  },
  {
   "cell_type": "code",
   "execution_count": null,
   "metadata": {
    "collapsed": true
   },
   "outputs": [],
   "source": [
    "x=False\n",
    "if x:\n",
    "    print('x es verdadero')\n",
    "else:\n",
    "    print('igual se va a imprimir')"
   ]
  },
  {
   "cell_type": "code",
   "execution_count": null,
   "metadata": {
    "collapsed": true
   },
   "outputs": [],
   "source": [
    "1000==True"
   ]
  },
  {
   "cell_type": "code",
   "execution_count": null,
   "metadata": {
    "collapsed": true
   },
   "outputs": [],
   "source": [
    "# 0==False\n",
    "# int >0 ==True\n"
   ]
  },
  {
   "cell_type": "code",
   "execution_count": null,
   "metadata": {
    "collapsed": true
   },
   "outputs": [],
   "source": [
    "2 == True"
   ]
  },
  {
   "cell_type": "code",
   "execution_count": 13,
   "metadata": {},
   "outputs": [
    {
     "name": "stdout",
     "output_type": "stream",
     "text": [
      "Ingrese un entero : 24\n",
      "NO estas muy alto\n",
      "Ingrese un entero : 23\n",
      "felicitaciones GANASTE\n",
      "finish\n"
     ]
    }
   ],
   "source": [
    "number = 23\n",
    "running = True\n",
    "\n",
    "while running:\n",
    "    \n",
    "    guess = int (input(\"Ingrese un entero : \"))\n",
    "    \n",
    "    if guess == number:\n",
    "        print(\"felicitaciones GANASTE\")\n",
    "        #esto causa q el bucle se detenga\n",
    "        running = False\n",
    "        \n",
    "    elif guess < number:\n",
    "        print (\"NO, es muy abajo\")\n",
    "    else:\n",
    "        print(\"NO estas muy alto\")\n",
    "\n",
    "\n",
    "print(\"finish\")"
   ]
  },
  {
   "cell_type": "code",
   "execution_count": null,
   "metadata": {
    "collapsed": true
   },
   "outputs": [],
   "source": []
  },
  {
   "cell_type": "code",
   "execution_count": null,
   "metadata": {
    "collapsed": true
   },
   "outputs": [],
   "source": []
  },
  {
   "cell_type": "code",
   "execution_count": null,
   "metadata": {
    "collapsed": true
   },
   "outputs": [],
   "source": [
    "range(0,100)"
   ]
  },
  {
   "cell_type": "code",
   "execution_count": null,
   "metadata": {
    "collapsed": true
   },
   "outputs": [],
   "source": [
    "########################WHILE#############################"
   ]
  },
  {
   "cell_type": "code",
   "execution_count": null,
   "metadata": {
    "collapsed": true
   },
   "outputs": [],
   "source": [
    "while True :\n",
    "    s = input (\"Ingrese algo : \")\n",
    "    if s == \"salir\":\n",
    "        break\n",
    "    print(\"Longitud del string es \", len(s))\n",
    "\n",
    "print(\"FInish\")\n",
    "    "
   ]
  },
  {
   "cell_type": "code",
   "execution_count": null,
   "metadata": {
    "collapsed": true
   },
   "outputs": [],
   "source": [
    "#Imprimir numeros pares\n",
    "for num in lista1:\n",
    "    if num%2==0:\n",
    "        print(num)\n"
   ]
  },
  {
   "cell_type": "code",
   "execution_count": null,
   "metadata": {
    "collapsed": true
   },
   "outputs": [],
   "source": [
    "for num in lista1:\n",
    "    if num%2!=0:\n",
    "        print(num)\n"
   ]
  },
  {
   "cell_type": "code",
   "execution_count": null,
   "metadata": {
    "collapsed": true
   },
   "outputs": [],
   "source": [
    "acum=0\n",
    "for num in lista1:\n",
    "    #acum=acum+num\n",
    "     acum+=num\n",
    "\n",
    "print(acum)"
   ]
  },
  {
   "cell_type": "code",
   "execution_count": null,
   "metadata": {
    "collapsed": true
   },
   "outputs": [],
   "source": [
    "sum(lista1)"
   ]
  },
  {
   "cell_type": "code",
   "execution_count": null,
   "metadata": {
    "collapsed": true
   },
   "outputs": [],
   "source": [
    "acum2=0\n",
    "for num in lista1:\n",
    "    acum2+=num\n",
    "\n",
    "print(acum2)\n",
    "    "
   ]
  },
  {
   "cell_type": "code",
   "execution_count": null,
   "metadata": {
    "collapsed": true
   },
   "outputs": [],
   "source": [
    "for (t1,t2) in list2:\n",
    "    print(t1)"
   ]
  },
  {
   "cell_type": "code",
   "execution_count": null,
   "metadata": {
    "collapsed": true
   },
   "outputs": [],
   "source": [
    "#diccionarios\n",
    "d = {'k1':1,'k2':2,'k3':3}"
   ]
  },
  {
   "cell_type": "code",
   "execution_count": null,
   "metadata": {
    "collapsed": true
   },
   "outputs": [],
   "source": [
    "for item in d:\n",
    "    print(item)"
   ]
  },
  {
   "cell_type": "code",
   "execution_count": null,
   "metadata": {
    "collapsed": true
   },
   "outputs": [],
   "source": [
    "d.items()"
   ]
  },
  {
   "cell_type": "code",
   "execution_count": null,
   "metadata": {
    "collapsed": true
   },
   "outputs": [],
   "source": [
    "while True:\n",
    "    s = input (\"Ingrese algo: \")\n",
    "    if s == \"salir\":\n",
    "        break\n",
    "    if len(s) < 3:\n",
    "        print (\"Muy pequeño\")\n",
    "        continue\n",
    "    print(\"La entrada es de longitud suficiente\")"
   ]
  },
  {
   "cell_type": "code",
   "execution_count": null,
   "metadata": {
    "collapsed": true
   },
   "outputs": [],
   "source": [
    "    if len(s) < 3:\n",
    "        print (\"Muy pequeño\")\n",
    "        continue\n",
    "        \n",
    "        "
   ]
  },
  {
   "cell_type": "code",
   "execution_count": null,
   "metadata": {
    "collapsed": true
   },
   "outputs": [],
   "source": [
    "x = 0\n",
    "while x<10:\n",
    "    print('x is actualmente: ', x)\n",
    "    print('x es menos que 10, sumando 1')\n",
    "    x+=1"
   ]
  },
  {
   "cell_type": "code",
   "execution_count": null,
   "metadata": {
    "collapsed": true
   },
   "outputs": [],
   "source": [
    "x=0\n",
    "while x<15:\n",
    "    print('x is actualmente: ', x)\n",
    "    print('x es menos que 10, sumando 1')\n",
    "    x+=1\n",
    "    if x==3:\n",
    "        print('x igual a 3')\n",
    "        \n",
    "        \n",
    "    else:\n",
    "        print('continuando')"
   ]
  },
  {
   "cell_type": "code",
   "execution_count": null,
   "metadata": {
    "collapsed": true
   },
   "outputs": [],
   "source": []
  }
 ],
 "metadata": {
  "kernelspec": {
   "display_name": "Python 3",
   "language": "python",
   "name": "python3"
  },
  "language_info": {
   "codemirror_mode": {
    "name": "ipython",
    "version": 3
   },
   "file_extension": ".py",
   "mimetype": "text/x-python",
   "name": "python",
   "nbconvert_exporter": "python",
   "pygments_lexer": "ipython3",
   "version": "3.6.0"
  }
 },
 "nbformat": 4,
 "nbformat_minor": 2
}
