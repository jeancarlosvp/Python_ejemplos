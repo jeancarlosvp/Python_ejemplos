{
  "nbformat": 4,
  "nbformat_minor": 0,
  "metadata": {
    "colab": {
      "name": "[1]Tipos_de_datos.ipynb",
      "provenance": [],
      "toc_visible": true,
      "authorship_tag": "ABX9TyMw0psHVG0f2x5hxvjVO22/",
      "include_colab_link": true
    },
    "kernelspec": {
      "name": "python3",
      "display_name": "Python 3"
    }
  },
  "cells": [
    {
      "cell_type": "markdown",
      "metadata": {
        "id": "view-in-github",
        "colab_type": "text"
      },
      "source": [
        "<a href=\"https://colab.research.google.com/github/jeancarlosvp/Python_ejemplos/blob/master/%5B1%5DTipos_de_datos.ipynb\" target=\"_parent\"><img src=\"https://colab.research.google.com/assets/colab-badge.svg\" alt=\"Open In Colab\"/></a>"
      ]
    },
    {
      "cell_type": "markdown",
      "metadata": {
        "id": "-Bj_aSYESS9s",
        "colab_type": "text"
      },
      "source": [
        "# Python \n",
        "\n",
        "\n",
        "Python es un leguaje de programación de alto nivel, interpretada, imperativa, orientada a objetos. \n",
        "de tipado dinámico, \n",
        "\n",
        "    - No hay pre-declaración de variables, y los tipos de variables son determinadas dinamicamente.\n",
        "    - El control de bloques es realizado  por indentación; no hay delimitadores de tipo BEGIN y END o { e }.\n",
        "    - Ofrece tipos de datos de alto nivel: strings, listas, tuplas, diccionários, sets.\n",
        "    - Es orientada a objetos.\n",
        "    \n",
        "Es un lenguaje moderno y adaptado para el desenvolvimiento tanto de aplicaciones genericas como científicas. Para aplicaciones cientificas posee un paquete muy importante y eficiente para el procesamiento de arrays multidimensionales: *Numpy*.\n",
        "  \n",
        "En su forma nativa, Python soporta los siguientes tipos de variables:\n",
        "  \n",
        "| Tipo Variable | Descripción                                 | Ejemplo de sintaxis     |\n",
        "|---------------|---------------------------------------------|-------------------------|\n",
        "| *int*         | Variable entera                             | a = 103458              |\n",
        "| *float*       | Variable de punto flotante                  | pi = 3.14159265         |\n",
        "| *bool*        | Variable *booleana* - *True* o *False*      | a = False               |\n",
        "| *complex*     | Variable de número complejo                 | c = 2+3j                |\n",
        "| *str*         | Variable para cadena de caracteres ASCII    | a = \"Ejemplo\"           |\n",
        "| *list*        | Lista heterogénea, valores alterables       | lista = [4,'eu',1]      |\n",
        "| *tuple*       | Tupla heterogénea imutable                  | tupla = (1,'eu',2)      |\n",
        "| *dict*        | Conjunto asociado de valores                | dic = {1:'yo',2:'tu'}   |        "
      ]
    },
    {
      "cell_type": "markdown",
      "metadata": {
        "id": "o56gDwSghVjp",
        "colab_type": "text"
      },
      "source": [
        "###  Tipos Númericos:"
      ]
    },
    {
      "cell_type": "code",
      "metadata": {
        "id": "tT2Qa6tqgs4A",
        "colab_type": "code",
        "colab": {
          "base_uri": "https://localhost:8080/",
          "height": 85
        },
        "outputId": "255b5167-015c-474d-fcff-a88e773eaad3"
      },
      "source": [
        "a = 5 ; print(type(a))\n",
        "b = 4.3 ; print(type(b))\n",
        "#c =  ; \n",
        "#d =  ; "
      ],
      "execution_count": null,
      "outputs": [
        {
          "output_type": "stream",
          "text": [
            "<class 'int'>\n",
            "<class 'float'>\n",
            "<class 'complex'>\n",
            "<class 'bool'>\n"
          ],
          "name": "stdout"
        }
      ]
    },
    {
      "cell_type": "code",
      "metadata": {
        "id": "xVL5StpYh2NZ",
        "colab_type": "code",
        "colab": {
          "base_uri": "https://localhost:8080/",
          "height": 68
        },
        "outputId": "df33e8c7-ccd4-4538-ed5c-f5305490b390"
      },
      "source": [
        "###Operaciones\n",
        "print(a+b)"
      ],
      "execution_count": null,
      "outputs": [
        {
          "output_type": "stream",
          "text": [
            "9.3\n",
            "(12.899999999999999+17.2j)\n",
            "6\n"
          ],
          "name": "stdout"
        }
      ]
    },
    {
      "cell_type": "code",
      "metadata": {
        "id": "5qUe69IciT73",
        "colab_type": "code",
        "colab": {
          "base_uri": "https://localhost:8080/",
          "height": 34
        },
        "outputId": "67126e08-c9a5-4722-bf8d-99989a6e418c"
      },
      "source": [
        "###Más operaciones \n",
        "print(3/2)\n",
        "print()"
      ],
      "execution_count": null,
      "outputs": [
        {
          "output_type": "execute_result",
          "data": {
            "text/plain": [
              "1"
            ]
          },
          "metadata": {
            "tags": []
          },
          "execution_count": 8
        }
      ]
    },
    {
      "cell_type": "code",
      "metadata": {
        "id": "GtONDY0RoHez",
        "colab_type": "code",
        "colab": {}
      },
      "source": [
        "##intercambiando datos\n",
        "x = 2\n",
        "y = 5\n"
      ],
      "execution_count": null,
      "outputs": []
    },
    {
      "cell_type": "markdown",
      "metadata": {
        "id": "YV5HyEYMhdPX",
        "colab_type": "text"
      },
      "source": [
        "###Tipos secuenciales\n",
        "### Strings:\n",
        "\n",
        "Se pueden declarar strings tanto usando aspas simples como dobles\n",
        "\n",
        "Strings son inmutables compuestos de caracteres. Se puede calcular el tamaño del \n",
        "string usando *len*."
      ]
    },
    {
      "cell_type": "code",
      "metadata": {
        "id": "DzCXRRb-g2Tr",
        "colab_type": "code",
        "colab": {}
      },
      "source": [
        "nombre1 = 'Juan'\n",
        "nombre2 = ... \n",
        "#print('Tipo de dato ', )\n",
        "#print(nombre1)\n",
        "#print(\"len\", "
      ],
      "execution_count": null,
      "outputs": []
    },
    {
      "cell_type": "markdown",
      "metadata": {
        "id": "9g17Sgc0hcf_",
        "colab_type": "text"
      },
      "source": [
        "String es un valor inmutable de caracteres. Es posible indexar un caracter único y es posible aplicar reglas\n",
        "consistentes de Python en el tratamiento de secuencias como el \"slicing\" y formas de indexación.\n",
        "En Python, el primer elemento es simpre indexado como cero, entoces si se tiene un string de 5 caracteres, \n",
        "este es indexado de 0 a 4. Es posible tambien indexar los elementos de derecha a izquierda utilizando\n",
        "índices negativos. Así, el último elemento del vector puede ser indexado por el indice -1.\n"
      ]
    },
    {
      "cell_type": "code",
      "metadata": {
        "id": "XnePkWQ9kKB_",
        "colab_type": "code",
        "colab": {
          "base_uri": "https://localhost:8080/",
          "height": 34
        },
        "outputId": "a0366cb0-b9b1-4ba4-94c8-d8b3e34e5831"
      },
      "source": [
        "s = 'python'\n",
        "print('Primer carácter : ', s[0])\n",
        "print('último caracter: ')\n",
        "print('Repitiendo el string 3 veces: ')"
      ],
      "execution_count": null,
      "outputs": [
        {
          "output_type": "stream",
          "text": [
            "Primer carácter :  p\n"
          ],
          "name": "stdout"
        }
      ]
    },
    {
      "cell_type": "code",
      "metadata": {
        "id": "Ll4C4m7JlQ_f",
        "colab_type": "code",
        "colab": {}
      },
      "source": [
        "###no es inmutable \n"
      ],
      "execution_count": null,
      "outputs": []
    },
    {
      "cell_type": "code",
      "metadata": {
        "id": "jgjnwn8wlT7v",
        "colab_type": "code",
        "colab": {}
      },
      "source": [
        ""
      ],
      "execution_count": null,
      "outputs": []
    },
    {
      "cell_type": "markdown",
      "metadata": {
        "id": "JxkKBD50lHpo",
        "colab_type": "text"
      },
      "source": [
        "###Listas\n",
        "Lista es una secuencia de elementos de diferentes tipos que pueden ser indexados, alterados y operados.\n",
        "Las listas son definidas por elementos separados por comas iniciado y terminado por corchetes."
      ]
    },
    {
      "cell_type": "code",
      "metadata": {
        "id": "sZ3SnvOMk1Cq",
        "colab_type": "code",
        "colab": {}
      },
      "source": [
        "##Las listas pueden contener distintos tipos de elementos \n",
        "lista1 = ...\n",
        "##Inclusive pueden contener otras listas como elementos\n",
        "lista2 = ... \n",
        "##Diferente a los strings se le puede atribuir nuevos valores a elementos de la lista\n",
        "\n",
        "## concatenando dos listas\n",
        "#lista3 = lista1+lista2\n"
      ],
      "execution_count": null,
      "outputs": []
    },
    {
      "cell_type": "code",
      "metadata": {
        "id": "SwOBKoUgmbQF",
        "colab_type": "code",
        "colab": {
          "base_uri": "https://localhost:8080/",
          "height": 34
        },
        "outputId": "f91175ad-a633-499b-8486-7e0e6838c11c"
      },
      "source": [
        "### metodo append, pop,sort... len, max, min,...\n",
        "numeros = [-2,5,0,-3]\n",
        "numeros.sort()\n",
        "print(numeros)"
      ],
      "execution_count": null,
      "outputs": [
        {
          "output_type": "stream",
          "text": [
            "[-3, -2, 0, 5]\n"
          ],
          "name": "stdout"
        }
      ]
    },
    {
      "cell_type": "code",
      "metadata": {
        "id": "hqdf-2RnsO74",
        "colab_type": "code",
        "colab": {
          "base_uri": "https://localhost:8080/",
          "height": 34
        },
        "outputId": "9508e486-d95e-4f14-f83a-2cf96cdba230"
      },
      "source": [
        "# indexado en lista de listas\n",
        "p = [0,1,2]\n",
        "q = [3,4,5]\n",
        "r = [6,7,8]\n",
        "t = [p,q,r]\n",
        "print(t)\n",
        "\n",
        "##El segundo elemento de la primera lista\n",
        "##"
      ],
      "execution_count": null,
      "outputs": [
        {
          "output_type": "stream",
          "text": [
            "[[0, 1, 2], [3, 4, 5], [6, 7, 8]]\n"
          ],
          "name": "stdout"
        }
      ]
    },
    {
      "cell_type": "markdown",
      "metadata": {
        "id": "DPWJ4zPsopDn",
        "colab_type": "text"
      },
      "source": [
        "###Tuplas\n",
        "\n",
        "Similar a la lista, pero sus valores son inmutables. La tupla es una secuencia de objetos separados por comas que pueden, opcionalmente ser iniciados y terminados por paréntesis. Si la tupla contiene un único elemento necesita estar seguido de una coma.\n",
        "\n",
        "Atención:\n",
        "El entendimiento de la tupla es muy importante y ella sera utilizada bastante en adelante, dado que muchos parametros de ndarray de NumPy utilizan tuplas."
      ]
    },
    {
      "cell_type": "code",
      "metadata": {
        "id": "b0zsttpDnTOJ",
        "colab_type": "code",
        "colab": {
          "base_uri": "https://localhost:8080/",
          "height": 34
        },
        "outputId": "4278a327-328e-4389-cd9a-5c004ec1cede"
      },
      "source": [
        "###Declarando tuplas\n",
        "tupla1 = ... #tupla vacia \n",
        "tupla2 = ... ##tupla de un elemento \n",
        "tupla3 = ... ###tupla de 3 elementos diferentes - ()\n",
        "print(type(...))"
      ],
      "execution_count": null,
      "outputs": [
        {
          "output_type": "stream",
          "text": [
            "<class 'ellipsis'>\n"
          ],
          "name": "stdout"
        }
      ]
    },
    {
      "cell_type": "markdown",
      "metadata": {
        "id": "u2-TOjV6q2d4",
        "colab_type": "text"
      },
      "source": [
        "## Slicing en los tipos de secuencias\n",
        "\n",
        "Además de los tipos de secuencias como listas, tuplas y strings pueden ser indexados, es posible tambien seleccionar subconjuntos a través del concepto de *slicing* (rebanado).\n",
        "\n",
        "Por ejemplo:"
      ]
    },
    {
      "cell_type": "code",
      "metadata": {
        "id": "XY8yUgUBpMR4",
        "colab_type": "code",
        "colab": {
          "base_uri": "https://localhost:8080/",
          "height": 68
        },
        "outputId": "40074003-af05-4029-b650-b8fbc6956d1a"
      },
      "source": [
        "s = 'abcdefg'\n",
        "print('s=',s)\n",
        "print('s[0:2] =', ...)  # caracteres a partir de la posición 0 (inclusivo) hasta 2 (exclusivo)\n",
        "print('s[2:5] =', ...)  # caracteres a partir de la posición 2 (inclusivo) hasta 5 (exclusivo)\n"
      ],
      "execution_count": null,
      "outputs": [
        {
          "output_type": "stream",
          "text": [
            "s= abcdefg\n",
            "s[0:2] = Ellipsis\n",
            "s[2:5] = Ellipsis\n"
          ],
          "name": "stdout"
        }
      ]
    },
    {
      "cell_type": "markdown",
      "metadata": {
        "id": "nwExcRu4rWdu",
        "colab_type": "text"
      },
      "source": [
        "Cuando el inicio es cero o el final es la longitud del string, puede ser omitido. Vea los ejemplos:"
      ]
    },
    {
      "cell_type": "code",
      "metadata": {
        "id": "iS9C2BmrrM2J",
        "colab_type": "code",
        "colab": {
          "base_uri": "https://localhost:8080/",
          "height": 85
        },
        "outputId": "5409a559-d617-4c6e-e42d-4f456afc71b7"
      },
      "source": [
        "print('s=',s)\n",
        "print('s[:2] =', ...)  # caracteres a partir del inicio hasta 2 (exclusivo)\n",
        "print('s[2:] =', ...)  # caracteres a partir de la posición (inclusivo) hasta el final del string\n",
        "print('s[-2:] =', ...) # últimos 2 caracteres"
      ],
      "execution_count": null,
      "outputs": [
        {
          "output_type": "stream",
          "text": [
            "s= abcdefg\n",
            "s[:2] = ab\n",
            "s[2:] = cdefg\n",
            "s[-2:] = fg\n"
          ],
          "name": "stdout"
        }
      ]
    },
    {
      "cell_type": "markdown",
      "metadata": {
        "id": "97HHbqXJSS-7",
        "colab_type": "text"
      },
      "source": [
        "Note que la posición de inicio es siempre inclusivo y la posición final es siempre exclusiva.\n",
        "Esto es hecho para que la concatenación entre ``s[:i]`` y ``s[i:]`` sea igual a ``s``.\n",
        "\n",
        "El *slicing* permite un tercer valor que es opcional: ``step``. \n",
        "\n",
        "Para quien este familiarizado con el lenguaje C, los 3 parâmetros del *slicing* es similar al ``for``:\n",
        "\n",
        "\n",
        "|          comando ``for``                  |  *slicing*            |\n",
        "|-------------------------------------------|-----------------------|\n",
        "|`for (i=inicio; i < fin; i += paso) a[i]`  | `a[inicio:fin:paso]`  |\n",
        "\n",
        "Vea ejemplos de indexaación usando *slicing* en un string de 7 caracteres, indexados de 0 a 6:\n",
        "\n",
        "|slice    | indices     | explicación                           |\n",
        "|---------|-------------|---------------------------------------|\n",
        "|  [0:5]  |0,1,2,3,4    |va de 0 hasta 4 que es menor que 5     |\n",
        "|  [2:5]  |2,3,4        |va de 2 hasta 4                        |\n",
        "|  [0:5:2]|0,2,4        |va de 0 hasta 4, de 2 en 2             |\n",
        "|  [::2]  |0,2,4,6      |va del inicio hasta el final de 2 en 2 |\n",
        "|  [:5]   |0,1,2,3,4    |va del inicio hasta 4                  |\n",
        "|  [3:]   |3,4,5,6      |va de 3 hasta el final                 |\n",
        "|  [::-1] |6,5,4,3,2,1,0|va del final (6) hasta el inicio       |\n",
        "\n",
        "Vea estos ejemplos aplicados en el string 'abcdefg':"
      ]
    },
    {
      "cell_type": "code",
      "metadata": {
        "id": "ZNODK2bor3Y1",
        "colab_type": "code",
        "colab": {}
      },
      "source": [
        "s = 'abcdefg'\n",
        "print('s=',s)\n",
        "print('s[0:5:2]=',s[0:5:2])\n",
        "print('s[::2]=',  s[::2])\n",
        "print('s[::-1]=', s[::-1])"
      ],
      "execution_count": null,
      "outputs": []
    },
    {
      "cell_type": "markdown",
      "metadata": {
        "id": "dsjI6-rPtLs0",
        "colab_type": "text"
      },
      "source": [
        "## Otros tipos\n",
        "\n",
        "Existena además los diccionarios y conjuntos.\n",
        "   \n",
        "\n",
        "## Diccionarios:\n",
        "\n",
        "Diccionários pueden ser definidos como listas associativas que en vez de asociar a sus elementos \n",
        "a índices númericos, asocia sus elementos a palabras-clave.\n",
        "\n",
        "- Declarando dicionários y realizando algunas operaciones simples"
      ]
    },
    {
      "cell_type": "code",
      "metadata": {
        "id": "lf-q45P6tMQ6",
        "colab_type": "code",
        "colab": {
          "base_uri": "https://localhost:8080/",
          "height": 102
        },
        "outputId": "510cfb65-c8b3-4a8c-dd79-4909516948d6"
      },
      "source": [
        "dict1 = {'blue':135,'green':12.34,'red':'ocean'} #definiendo un dicionario\n",
        "##############\n",
        "print(type(dict1))\n",
        "print(dict1)\n",
        "print(dict1['blue'])\n",
        "print(dict1.keys()) # Muestras las claves del diccionário\n",
        "del dict1['blue'] # elimina al elemento com  la clave 'blue'\n",
        "print(dict1.keys()) # Muestra las llaves o claves del dicionário  \n",
        "                    # despues de que el elemto de la clave 'blue' sea eliminado"
      ],
      "execution_count": null,
      "outputs": [
        {
          "output_type": "stream",
          "text": [
            "<class 'dict'>\n",
            "{'blue': 135, 'green': 12.34, 'red': 'ocean'}\n",
            "135\n",
            "dict_keys(['blue', 'green', 'red'])\n",
            "dict_keys(['green', 'red'])\n"
          ],
          "name": "stdout"
        }
      ]
    },
    {
      "cell_type": "code",
      "metadata": {
        "id": "VpXCAqqdtsat",
        "colab_type": "code",
        "colab": {}
      },
      "source": [
        ""
      ],
      "execution_count": null,
      "outputs": []
    }
  ]
}