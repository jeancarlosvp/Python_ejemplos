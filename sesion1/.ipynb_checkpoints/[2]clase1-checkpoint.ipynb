{
 "cells": [
  {
   "cell_type": "markdown",
   "metadata": {},
   "source": [
    "# Python \n",
    "\n",
    "\n",
    "## Tipos de variables \n",
    "\n",
    "Python es un leguaje de programación de alto nivel, interpretada, imperativa, orientada a objetos. \n",
    "de tipado dinaámico, \n",
    "\n",
    "    - No hay pre-declaración de variables, y los tipos de variables son determinadas dinamicamente.\n",
    "    - El control de bloques es realizado  por indentación; no hay delimitadores de tipo BEGIN y END o { e }.\n",
    "    - Ofrece tipos de datos de alto nivel: strings, listas, tuplas, diccionários, sets, classes.\n",
    "    - Es orientada a objetos.\n",
    "    \n",
    "Es un lenguaje moderno y adaptado para el desenvolvimiento tanto de aplicaciones genericas como científicas. Para aplicaciones cientificas posee un paquete muy importante y eficiente para el procesamiento de arrays multidimensionales: *Numpy*.\n",
    "  \n",
    "En su forma nativa, Python soporta los seguintes tipos de variables:\n",
    "  \n",
    "| Tipo Variable | Descripción                                 | Ejemplo de sintaxis     |\n",
    "|---------------|---------------------------------------------|-------------------------|\n",
    "| *int*         | Variable entera                             | a = 103458              |\n",
    "| *float*       | Variable de punto flotante                  | pi = 3.14159265         |\n",
    "| *bool*        | Variable *booleana* - *True* o *False*      | a = False               |\n",
    "| *complex*     | Variable de número complejo                 | c = 2+3j                |\n",
    "| *str*         | Variable para cadena de caracteres ASCII    | a = \"Ejemplo\"           |\n",
    "| *list*        | Lista heterogénea, valores alterables       | lista = [4,'eu',1]      |\n",
    "| *tuple*       | Tupla heterogénea imutable                  | tupla = (1,'eu',2)      |\n",
    "| *dict*        | Conjunto asociado de valores                | dic = {1:'yo',2:'tu'}   |        "
   ]
  },
  {
   "cell_type": "markdown",
   "metadata": {},
   "source": [
    "## Tipos Númericos:\n",
    "\n"
   ]
  },
  {
   "cell_type": "code",
   "execution_count": 1,
   "metadata": {},
   "outputs": [
    {
     "name": "stdout",
     "output_type": "stream",
     "text": [
      "<class 'int'>\n",
      "<class 'float'>\n",
      "<class 'complex'>\n",
      "<class 'bool'>\n",
      "6.140000000000001\n",
      "(9.42+12.56j)\n",
      "(1+1.3333333333333333j)\n"
     ]
    }
   ],
   "source": [
    "a = 3\n",
    "print(type(a))\n",
    "b = 3.14\n",
    "print(type(b))\n",
    "c = 3 + 4j\n",
    "print(type(c))\n",
    "d = False\n",
    "print(type(d))\n",
    "print(a + b)  \n",
    "print(b * c) \n",
    "print(c / a)"
   ]
  },
  {
   "cell_type": "code",
   "execution_count": 1,
   "metadata": {},
   "outputs": [
    {
     "data": {
      "text/plain": [
       "0.0003"
      ]
     },
     "execution_count": 1,
     "metadata": {},
     "output_type": "execute_result"
    }
   ],
   "source": [
    "3E-4"
   ]
  },
  {
   "cell_type": "markdown",
   "metadata": {},
   "source": [
    "  \n",
    "En tipos diferentes se realiza la conversión de los elementos al tipo adecuado, jerarquía: complejo > punto flotante > entero\n",
    "\n",
    "## Tipos de secuencias:\n",
    "\n",
    " Listas, tuplas y cadena de caracteres (string).\n",
    "\n",
    "### Strings:\n",
    "\n",
    "Se pueden declarar strings tanto usando aspas simples como dobles\n",
    "\n",
    "Strings son inmutables compuestos de caracteres. Se puede calcular el tamaño del \n",
    "string usando *len*."
   ]
  },
  {
   "cell_type": "code",
   "execution_count": 2,
   "metadata": {},
   "outputs": [
    {
     "name": "stdout",
     "output_type": "stream",
     "text": [
      "string del tipo: <class 'str'>\n",
      "nombre1: Faraday\n",
      "len: 7\n"
     ]
    }
   ],
   "source": [
    "nombre1 = 'Faraday'\n",
    "nombre2 = \"Maxwell\"\n",
    "print('string del tipo:', type(nombre1))\n",
    "print('nombre1:', nombre1) \n",
    "print(\"len:\", len(nombre1))"
   ]
  },
  {
   "cell_type": "markdown",
   "metadata": {},
   "source": [
    "String es un valor inmutable de caracteres. Es posible indexar un caracter único y es posible aplicar reglas\n",
    "consistentes de Python en el tratamiento de secuencias como el rebanado(slicing) y formas de indexación.\n",
    "En Python, el primer elemento es simpre indexado como cero, asi que cuando tengo un string de 5 caracteres, \n",
    "este es indexado de 0 a 4. Es posible tambien indexar los elementos de derecha a izquierda utilizando\n",
    "índices negativos. Así, el último elemento del vector puede ser indexado por el indice -1.\n",
    "\n"
   ]
  },
  {
   "cell_type": "code",
   "execution_count": 3,
   "metadata": {
    "scrolled": true
   },
   "outputs": [
    {
     "name": "stdout",
     "output_type": "stream",
     "text": [
      "Primer caracter de  Faraday  es:  F\n",
      "Último caracter de  Faraday  es:  y\n",
      "Repetiendo el string 3 veces  FaradayFaradayFaraday\n"
     ]
    }
   ],
   "source": [
    "print('Primer caracter de ', nombre1, ' es: ', nombre1[0])\n",
    "print('Último caracter de ', nombre1, ' es: ', nombre1[-1])\n",
    "print('Repetiendo el string 3 veces ', 3 * nombre1)"
   ]
  },
  {
   "cell_type": "code",
   "execution_count": 4,
   "metadata": {
    "collapsed": true
   },
   "outputs": [],
   "source": [
    "str1 = \"What's your name \"\n",
    "str2 = 'Hola mundo'\n",
    "str3 =  '''Hola este es una cadena multilinea.\n",
    "            Esta es la segunda linea \n",
    "            y la tercera'''"
   ]
  },
  {
   "cell_type": "markdown",
   "metadata": {},
   "source": [
    "[Más ejemplos de strings](Ejemplos_str.ipynb)"
   ]
  },
  {
   "cell_type": "markdown",
   "metadata": {},
   "source": [
    "### Listas:\n",
    "\n",
    "Lista es una secuencia de elementos de diferentes tipos que pueden ser indexados, alterados y operados.\n",
    "Las listas son definidas por elementos separados por comas iniciado y terminado por corchetes.\n"
   ]
  },
  {
   "cell_type": "code",
   "execution_count": 5,
   "metadata": {},
   "outputs": [
    {
     "name": "stdout",
     "output_type": "stream",
     "text": [
      "tipo de la lista1= <class 'list'>\n",
      "lista2= [(3+4j), [1, 1.1, 'um']]\n",
      "lista2= [(3+4j), 'Faraday']\n",
      "lista3= [1, 1.1, 'um', (3+4j), 'Faraday']\n",
      "concatenando 2 vezes: [1, 1.1, 'um', (3+4j), 'Faraday', 1, 1.1, 'um', (3+4j), 'Faraday']\n"
     ]
    }
   ],
   "source": [
    "lista1 = [1, 1.1, 'um'] # Las listas pueden conter elementos de diferentes tipos.\n",
    "lista2 = [3+4j, lista1] # Inclusive una lista puede contener otras listas como elementos!\n",
    "print('tipo de la lista1=', type(lista1))\n",
    "print('lista2=', lista2)\n",
    "lista2[1] = 'Faraday' # Diferente a los strings, se puede atribuir nuevos valores a elementos de la lista.\n",
    "print('lista2=', lista2)\n",
    "lista3 = lista1 + lista2 # Concatenando 2 listas\n",
    "print('lista3=',lista3)\n",
    "print('concatenando 2 vezes:',2*lista3)"
   ]
  },
  {
   "cell_type": "markdown",
   "metadata": {},
   "source": [
    "[Más ejemplos de listas](Ejemplos_listas.ipynb)"
   ]
  },
  {
   "cell_type": "markdown",
   "metadata": {},
   "source": [
    "### Tuplas:\n",
    "\n",
    "Similar a la lista, pero sus valores son inmutables. La tupla es una secuencia de objetos separados por comas que pueden, opcionalmente ser iniciados y terminados por paréntesis.\n",
    "Si la tupla contiene un único elemento necesita estar seguido de una coma.\n",
    "\n",
    "#### Atención:\n",
    "\n",
    "El entendimiento de la tupla es muy importante y ella sera utilizada bastante en adelante, dado que muchos parametros de  ``ndarray`` de NumPy utilizan tuplas."
   ]
  },
  {
   "cell_type": "code",
   "execution_count": 6,
   "metadata": {},
   "outputs": [
    {
     "name": "stdout",
     "output_type": "stream",
     "text": [
      "tupla1= ()\n",
      "tupla2= ('Gauss',)\n",
      "tupla3= (1.1, 'Ohm', (3+4j))\n",
      "tupla4= (3, 'aqui', True)\n",
      "tipo de la tupla3= <class 'tuple'>\n"
     ]
    }
   ],
   "source": [
    "#Declarando tuplas\n",
    "tupla1 = () # tupla vacia\n",
    "tupla2 = ('Gauss',)  # tupla con solo un elemento. Note la coma.\n",
    "tupla3 = (1.1, 'Ohm', 3+4j)\n",
    "tupla4 = 3, 'aqui', True\n",
    "print('tupla1=', tupla1)\n",
    "print('tupla2=', tupla2)\n",
    "print('tupla3=', tupla3)\n",
    "print('tupla4=', tupla4)\n",
    "print('tipo de la tupla3=', type(tupla3))"
   ]
  },
  {
   "cell_type": "markdown",
   "metadata": {},
   "source": [
    "## Slicing en los tipos de secuencias\n",
    "\n",
    "Además de los tipos de secuencias como listas, tuplas y strings pueden ser indexados, es posible tambien seleccionar subconjuntos a través del concepto de *slicing* (rebanado).\n",
    "\n",
    "Por ejemplo:"
   ]
  },
  {
   "cell_type": "code",
   "execution_count": 7,
   "metadata": {},
   "outputs": [
    {
     "name": "stdout",
     "output_type": "stream",
     "text": [
      "s= abcdefg\n",
      "s[0:2] = ab\n",
      "s[2:5] = cde\n"
     ]
    }
   ],
   "source": [
    "s = 'abcdefg'\n",
    "print('s=',s)\n",
    "print('s[0:2] =', s[0:2])  # caracteres a partir de la posición 0 (inclusivo) hasta 2 (exclusivo)\n",
    "print('s[2:5] =', s[2:5])  # caracteres a partir de la posición 2 (inclusivo) hasta 5 (exclusivo)"
   ]
  },
  {
   "cell_type": "markdown",
   "metadata": {},
   "source": [
    "Cuando el inicio es cero o el final es la longitud del string, puede ser omitido. Vea los ejemplos:\n"
   ]
  },
  {
   "cell_type": "code",
   "execution_count": 8,
   "metadata": {},
   "outputs": [
    {
     "name": "stdout",
     "output_type": "stream",
     "text": [
      "s= abcdefg\n",
      "s[:2] = ab\n",
      "s[2:] = cdefg\n",
      "s[-2:] = fg\n"
     ]
    }
   ],
   "source": [
    "s = 'abcdefg'\n",
    "print('s=',s)\n",
    "print('s[:2] =', s[:2])  # caracteres a partir del inicio hasta 2 (exclusivo)\n",
    "print('s[2:] =', s[2:])  # caracteres a partir de la posición (inclusivo) hasta el final del string\n",
    "print('s[-2:] =', s[-2:]) # últimos 2 caracteres"
   ]
  },
  {
   "cell_type": "markdown",
   "metadata": {},
   "source": [
    "Note que la posición de inicio es siempre inclusivo y la posición final es siempre exclusiva.\n",
    "Esto es hecho para que la concatenación entre ``s[:i]`` y ``s[i:]`` sea igual a ``s``.\n",
    "\n",
    "El *slicing* permite un tercer valor que es opcional: ``step``. \n",
    "\n",
    "Para quien este familiarizado con el lenguaje C, los 3 parâmetros del *slicing* é similar al ``for``:\n",
    "\n",
    "\n",
    "|          comando ``for``                  |  *slicing*            |\n",
    "|-------------------------------------------|-----------------------|\n",
    "|`for (i=inicio; i < fin; i += paso) a[i]`  | `a[inicio:fin:paso]`  |\n",
    "\n",
    "Vea ejemplos de indexaación usando *slicing* en un string de 7 caracteres, indexados de 0 a 6:\n",
    "\n",
    "|slice    | indices     | explicación                           |\n",
    "|---------|-------------|---------------------------------------|\n",
    "|   0:5   |0,1,2,3,4    |va de 0 hasta 4 que es menor que 5     |\n",
    "|   2:5   |2,3,4        |va de 2 hasta 4                        |\n",
    "|   0:5:2 |0,2,4        |va de 0 hasta 4, de 2 en 2             |\n",
    "|   ::2   |0,2,4,6      |va del inicio hasta el final de 2 en 2 |\n",
    "|   :5    |0,1,2,3,4    |va del inicio hasta 4                  |\n",
    "|   3:    |3,4,5,6      |va de 3 hasta el final                 |\n",
    "|   ::-1  |6,5,4,3,2,1,0|va del final (6) hasta el inicio       |\n",
    "\n",
    "Vea estos ejemplos aplicados en el string 'abcdefg':"
   ]
  },
  {
   "cell_type": "code",
   "execution_count": 8,
   "metadata": {
    "scrolled": true
   },
   "outputs": [
    {
     "name": "stdout",
     "output_type": "stream",
     "text": [
      "s= abcdefg\n",
      "s[2:5]= cde\n",
      "s[0:5:2]= ace\n",
      "s[::2]= aceg\n",
      "s[:5]= abcde\n",
      "s[3:]= defg\n",
      "s[::-1]= gfedcba\n"
     ]
    }
   ],
   "source": [
    "s = 'abcdefg'\n",
    "print('s=',s)\n",
    "print('s[2:5]=',  s[2:5])\n",
    "print('s[0:5:2]=',s[0:5:2])\n",
    "print('s[::2]=',  s[::2])\n",
    "print('s[:5]=',   s[:5])\n",
    "print('s[3:]=',   s[3:])\n",
    "print('s[::-1]=', s[::-1])"
   ]
  },
  {
   "cell_type": "markdown",
   "metadata": {},
   "source": [
    "-----\n",
    "### Atención:\n",
    "\n",
    "    Este concepto de *slicing* será essencial en este curso. Este puede ser aplicado en strings, \n",
    "    tuplas, listas y principalmente en  ``ndarray`` de NumPy. \n",
    "-----\n",
    "\n",
    "## Asignación en tipos de secuencias\n",
    "\n",
    "Tanto strings, tuplas como listas pueden ser desempaquetados a través de la asignación.\n",
    "Lo importante es que el mapiamento sea consistente. Recordar que la única secuencia que es inmutable, esto es, puede ser modificada por asignación es la lista.\n",
    "\n",
    "Ejemplos:"
   ]
  },
  {
   "cell_type": "code",
   "execution_count": 9,
   "metadata": {},
   "outputs": [
    {
     "name": "stdout",
     "output_type": "stream",
     "text": [
      "s1: a\n",
      "s2: b\n",
      "s3: c\n",
      "list= [1, 2, 3]\n",
      "list= (8, 9, True)\n",
      "a= 9\n"
     ]
    }
   ],
   "source": [
    "s = \"abc\"\n",
    "s1,s2,s3 = s\n",
    "print('s1:',s1)\n",
    "print('s2:',s2)\n",
    "print('s3:',s3)\n",
    "list = [1,2,3]\n",
    "t = 8,9,True\n",
    "print('list=',list)\n",
    "list = t\n",
    "print('list=',list)\n",
    "(_,a,_) = t\n",
    "print('a=',a)"
   ]
  },
  {
   "cell_type": "markdown",
   "metadata": {},
   "source": [
    "## Formateo  de string como salida\n",
    "\n",
    "Un string puede formatear de modo parecido a la sintaxis de sprintf en C/C++ en la forma:\n",
    "'string % tupla'. Usaremos bastante este modelo para colocar leyendas en las imágenes. Ejemplos:\n",
    "\n",
    ".. code:: python"
   ]
  },
  {
   "cell_type": "code",
   "execution_count": 10,
   "metadata": {},
   "outputs": [
    {
     "name": "stdout",
     "output_type": "stream",
     "text": [
      "formateo entero:5, float:3.200000, string:alo\n"
     ]
    }
   ],
   "source": [
    "s = 'formateo entero:%d, float:%f, string:%s' % (5, 3.2, 'alo')\n",
    "print(s)"
   ]
  },
  {
   "cell_type": "markdown",
   "metadata": {},
   "source": [
    "## Otros tipos\n",
    "\n",
    "Existena además los diccionarios y conjuntos.\n",
    "   \n",
    "\n",
    "## Diccionários:\n",
    "\n",
    "Diccionários pueden ser definidos como listas associativas que en vez de asociar a sus elementos \n",
    "a índices númericos, asocia sus elementos a palabras-clave.\n",
    "\n",
    "- Declarando dicionários y realizando algunas operaciones simples"
   ]
  },
  {
   "cell_type": "code",
   "execution_count": 11,
   "metadata": {},
   "outputs": [
    {
     "name": "stdout",
     "output_type": "stream",
     "text": [
      "<class 'dict'>\n",
      "{'blue': 135, 'green': 12.34, 'red': 'ocean'}\n",
      "135\n",
      "dict_keys(['blue', 'green', 'red'])\n",
      "dict_keys(['green', 'red'])\n"
     ]
    }
   ],
   "source": [
    "dict1 = {'blue':135,'green':12.34,'red':'ocean'} #definiendo un dicionario\n",
    "print(type(dict1))\n",
    "print(dict1)\n",
    "print(dict1['blue'])\n",
    "print(dict1.keys()) # Muestras las claves del diccionário\n",
    "del dict1['blue'] # elimina al elemento com  la clave 'blue'\n",
    "print(dict1.keys()) # Muestra las llaves o claves del dicionário  \n",
    "                    # despues de que el elemto de la clave 'blue' sea eliminado"
   ]
  },
  {
   "cell_type": "markdown",
   "metadata": {},
   "source": [
    "## Conjuntos\n",
    "\n",
    "Conjuntos son colecciones de elementos que no poseen orden y  también no presentan\n",
    "elementos repetidos.\n",
    "\n",
    "- Declarando conjuntos y realizando algunas operaciones simples"
   ]
  },
  {
   "cell_type": "code",
   "execution_count": 12,
   "metadata": {},
   "outputs": [
    {
     "name": "stdout",
     "output_type": "stream",
     "text": [
      "{'orange', 'apple', 'pear', 'banana'}\n",
      "<class 'set'>\n",
      "{'red', 'green', 'orange', 'blue', 'pear', 'apple', 'banana'}\n"
     ]
    }
   ],
   "source": [
    "lista1 = ['apple', 'orange', 'apple', 'pear', 'orange', 'banana'] \n",
    "lista2 = ['red', 'blue', 'green','red','red']\n",
    "conjunto1 = set(lista1) # Definiendo un conjunto\n",
    "conjunto2 = set(lista2)\n",
    "print(conjunto1) # Observe que los elementos repetidos son contados solo una vez\n",
    "print((type(conjunto1)))\n",
    "print((conjunto1 | conjunto2)) # Unión de 2 conjuntos\n"
   ]
  },
  {
   "cell_type": "code",
   "execution_count": null,
   "metadata": {
    "collapsed": true
   },
   "outputs": [],
   "source": []
  }
 ],
 "metadata": {
  "kernelspec": {
   "display_name": "Python 3",
   "language": "python",
   "name": "python3"
  },
  "language_info": {
   "codemirror_mode": {
    "name": "ipython",
    "version": 3
   },
   "file_extension": ".py",
   "mimetype": "text/x-python",
   "name": "python",
   "nbconvert_exporter": "python",
   "pygments_lexer": "ipython3",
   "version": "3.6.0"
  },
  "toc": {
   "colors": {
    "hover_highlight": "#DAA520",
    "running_highlight": "#FF0000",
    "selected_highlight": "#FFD700"
   },
   "moveMenuLeft": true,
   "nav_menu": {
    "height": "279px",
    "width": "252px"
   },
   "navigate_menu": true,
   "number_sections": true,
   "sideBar": true,
   "threshold": 4,
   "toc_cell": true,
   "toc_section_display": "block",
   "toc_window_display": false
  }
 },
 "nbformat": 4,
 "nbformat_minor": 2
}
