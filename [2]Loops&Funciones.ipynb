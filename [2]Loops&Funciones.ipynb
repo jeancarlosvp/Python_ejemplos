{
  "nbformat": 4,
  "nbformat_minor": 0,
  "metadata": {
    "colab": {
      "name": "[2]Loops&Funciones.ipynb",
      "provenance": [],
      "authorship_tag": "ABX9TyMn0w+d+ixhunLLIKXjT4UF",
      "include_colab_link": true
    },
    "kernelspec": {
      "name": "python3",
      "display_name": "Python 3"
    }
  },
  "cells": [
    {
      "cell_type": "markdown",
      "metadata": {
        "id": "view-in-github",
        "colab_type": "text"
      },
      "source": [
        "<a href=\"https://colab.research.google.com/github/jeancarlosvp/Python_ejemplos/blob/master/%5B2%5DLoops%26Funciones.ipynb\" target=\"_parent\"><img src=\"https://colab.research.google.com/assets/colab-badge.svg\" alt=\"Open In Colab\"/></a>"
      ]
    },
    {
      "cell_type": "markdown",
      "metadata": {
        "id": "4ryjOkhb1zUy",
        "colab_type": "text"
      },
      "source": [
        "###Operadores de comparación\n",
        "Datos booleanos"
      ]
    },
    {
      "cell_type": "code",
      "metadata": {
        "id": "nxLVBbNl15uV",
        "colab_type": "code",
        "colab": {
          "base_uri": "https://localhost:8080/",
          "height": 34
        },
        "outputId": "f847fa52-1e43-4a83-927a-ba933cd7e680"
      },
      "source": [
        "## == , != , <,>,>=,<=\n",
        "\n",
        "a = 5>= 2\n",
        "a"
      ],
      "execution_count": null,
      "outputs": [
        {
          "output_type": "execute_result",
          "data": {
            "text/plain": [
              "True"
            ]
          },
          "metadata": {
            "tags": []
          },
          "execution_count": 3
        }
      ]
    },
    {
      "cell_type": "code",
      "metadata": {
        "id": "tAr9TU1U2jBu",
        "colab_type": "code",
        "colab": {}
      },
      "source": [
        "## and , or\n",
        "## is , is not"
      ],
      "execution_count": null,
      "outputs": []
    },
    {
      "cell_type": "code",
      "metadata": {
        "id": "zvxUkNqk2GUM",
        "colab_type": "code",
        "colab": {
          "base_uri": "https://localhost:8080/",
          "height": 34
        },
        "outputId": "91f6eab6-0ec9-4451-b482-634174876935"
      },
      "source": [
        "\n",
        "###in, not in \n",
        "m = [1,3,5,7]\n"
      ],
      "execution_count": null,
      "outputs": [
        {
          "output_type": "execute_result",
          "data": {
            "text/plain": [
              "False"
            ]
          },
          "metadata": {
            "tags": []
          },
          "execution_count": 5
        }
      ]
    },
    {
      "cell_type": "markdown",
      "metadata": {
        "id": "YX3kr9kJ63qD",
        "colab_type": "text"
      },
      "source": [
        "###Modulo random"
      ]
    },
    {
      "cell_type": "code",
      "metadata": {
        "id": "SkQVxEBt63Bd",
        "colab_type": "code",
        "colab": {
          "base_uri": "https://localhost:8080/",
          "height": 34
        },
        "outputId": "5708d3de-b45d-42cb-a559-01ee54544981"
      },
      "source": [
        "from random import randint\n",
        "x = randint(1,6)\n",
        "x"
      ],
      "execution_count": null,
      "outputs": [
        {
          "output_type": "execute_result",
          "data": {
            "text/plain": [
              "5"
            ]
          },
          "metadata": {
            "tags": []
          },
          "execution_count": 2
        }
      ]
    },
    {
      "cell_type": "markdown",
      "metadata": {
        "id": "dBCNfVRJ3nrj",
        "colab_type": "text"
      },
      "source": [
        "## SENTENCIAS EN PYTHON\n",
        "\n",
        "### SENTENCIA CONDICIONAL : *if, elif, else*\n",
        "\n",
        "Nos permite actuar en base a si una sentencia es verdadera o falsa. Verbalmente es como decirle a la PC “Si esto ocurre, realiza esto”\n",
        "\n",
        "Se le denomina condicional múltiple cuando utiliza elif  y else, la sintaxis seria de la siguiente forma:\n"
      ]
    },
    {
      "cell_type": "code",
      "metadata": {
        "id": "P28oRRKC3Oq5",
        "colab_type": "code",
        "colab": {
          "base_uri": "https://localhost:8080/",
          "height": 35
        },
        "outputId": "01998bba-61d6-4423-9c4d-7adfba19c80f"
      },
      "source": [
        "'''\n",
        "if case1 :\n",
        "  action1\n",
        "elif case2 :\n",
        "  action2\n",
        "else :\n",
        "  action3\n",
        "'''"
      ],
      "execution_count": null,
      "outputs": [
        {
          "output_type": "execute_result",
          "data": {
            "application/vnd.google.colaboratory.intrinsic": {
              "type": "string"
            },
            "text/plain": [
              "'\\nif case1 :\\n  action1\\nelif case2 :\\n  action2\\nelse :\\n  action3\\n'"
            ]
          },
          "metadata": {
            "tags": []
          },
          "execution_count": 10
        }
      ]
    },
    {
      "cell_type": "markdown",
      "metadata": {
        "id": "VJeFnmvB3hc5",
        "colab_type": "text"
      },
      "source": [
        ""
      ]
    },
    {
      "cell_type": "code",
      "metadata": {
        "id": "GP_jJ7Gu3YYY",
        "colab_type": "code",
        "colab": {}
      },
      "source": [
        "###Adivinar el resultado de un dado"
      ],
      "execution_count": null,
      "outputs": []
    },
    {
      "cell_type": "code",
      "metadata": {
        "id": "tZ-abiK76e4K",
        "colab_type": "code",
        "colab": {}
      },
      "source": [
        ""
      ],
      "execution_count": null,
      "outputs": []
    },
    {
      "cell_type": "markdown",
      "metadata": {
        "id": "ouoDjQocF7cn",
        "colab_type": "text"
      },
      "source": [
        "# Bucle while\n",
        "La sentencia while es una de las formas mas generales de iterar en Python, while iterara continuamente sobre una sentencia mientras la condición se mantenga en True. La razón por la que se denomina Loop es porque se repite la orden una y otra vez hasta que se termine de cumplir la condición.\n",
        "Su sintaxis se representa:"
      ]
    },
    {
      "cell_type": "code",
      "metadata": {
        "id": "Ba-5yAys6i3N",
        "colab_type": "code",
        "colab": {}
      },
      "source": [
        "'''\n",
        "while test:\n",
        "  code statements\n",
        "else :\n",
        "  final code statement\n",
        "'''"
      ],
      "execution_count": null,
      "outputs": []
    },
    {
      "cell_type": "code",
      "metadata": {
        "id": "Mio15B9pGi7V",
        "colab_type": "code",
        "colab": {
          "base_uri": "https://localhost:8080/",
          "height": 85
        },
        "outputId": "df14bd22-c8d3-4b38-bfd5-80833e2e731b"
      },
      "source": [
        "flag = True\n",
        "y = randint(1,6)\n",
        "while flag :\n",
        "  guess = eval(input('Ingrese valor a adivinar : '))\n",
        "  if guess == y :\n",
        "    print('Lo lograste')\n",
        "    flag = False\n",
        "  else : print(\"Sigue intentando\")"
      ],
      "execution_count": null,
      "outputs": [
        {
          "output_type": "stream",
          "text": [
            "Ingrese valor a adivinar : 3\n",
            "Sigue intentando\n",
            "Ingrese valor a adivinar : 2\n",
            "Lo lograste\n"
          ],
          "name": "stdout"
        }
      ]
    },
    {
      "cell_type": "code",
      "metadata": {
        "id": "dnh9Gx45G8ps",
        "colab_type": "code",
        "colab": {}
      },
      "source": [
        "### Los numeros de fibonacci menores que 10\n",
        "### 0,1,1,2,3,5,8\n",
        "\n"
      ],
      "execution_count": null,
      "outputs": []
    },
    {
      "cell_type": "markdown",
      "metadata": {
        "id": "Bw00WO9qIVM-",
        "colab_type": "text"
      },
      "source": [
        "## Bucle for\n",
        "La sentencia for actua como un iterador en Python, recorre los ítems de una secuencia o cualquier otro objeto iterable. Hemos ido viendo que se puede iterar varios tipos de variables: strings, listas, tuples, diccionarios\n",
        "\n",
        "Su sintaxis se representa:"
      ]
    },
    {
      "cell_type": "code",
      "metadata": {
        "id": "J8_hvaDcIUoP",
        "colab_type": "code",
        "colab": {
          "base_uri": "https://localhost:8080/",
          "height": 35
        },
        "outputId": "08742ca7-c675-4bce-ead4-fd84379dee0c"
      },
      "source": [
        "'''\n",
        "for items in object :\n",
        "  statements to do\n",
        "'''"
      ],
      "execution_count": null,
      "outputs": [
        {
          "output_type": "execute_result",
          "data": {
            "application/vnd.google.colaboratory.intrinsic": {
              "type": "string"
            },
            "text/plain": [
              "'\\nfor items in object :\\n  statements to do\\n'"
            ]
          },
          "metadata": {
            "tags": []
          },
          "execution_count": 10
        }
      ]
    },
    {
      "cell_type": "code",
      "metadata": {
        "id": "vTXt7UkuH_tt",
        "colab_type": "code",
        "colab": {
          "base_uri": "https://localhost:8080/",
          "height": 68
        },
        "outputId": "97de939a-de0f-42db-e277-8577b42c5b17"
      },
      "source": [
        "s = 'abcdef'\n",
        "c = ['a', 1, (0,1)]\n",
        "\n",
        "for i in c:\n",
        "  print(i)"
      ],
      "execution_count": null,
      "outputs": [
        {
          "output_type": "stream",
          "text": [
            "a\n",
            "1\n",
            "(0, 1)\n"
          ],
          "name": "stdout"
        }
      ]
    },
    {
      "cell_type": "markdown",
      "metadata": {
        "id": "7VKa6voBJZNk",
        "colab_type": "text"
      },
      "source": [
        "#### Range\n",
        "La función range nos permite generar de manera rápida una lista de enteros, Tiene 3 parámetros, similar a slicing: start, stop y step.\n",
        "\n",
        "Pero tener un cuenta que tiene que ser asignado a un lista, de otra manera quedara simplemente como un generador.\n",
        "\n",
        "¿Qué es un generador? Es un tipo especial de función que genera información y no necesita guardarlo en la memoria"
      ]
    },
    {
      "cell_type": "code",
      "metadata": {
        "id": "7euXzvbEJZtM",
        "colab_type": "code",
        "colab": {
          "base_uri": "https://localhost:8080/",
          "height": 34
        },
        "outputId": "8ee7791b-0ad4-4c2e-ecdd-4d676484aab5"
      },
      "source": [
        "list(range(0,11))\n",
        "#list(range(0,11,2))"
      ],
      "execution_count": null,
      "outputs": [
        {
          "output_type": "execute_result",
          "data": {
            "text/plain": [
              "[0, 2, 4, 6, 8, 10]"
            ]
          },
          "metadata": {
            "tags": []
          },
          "execution_count": 16
        }
      ]
    },
    {
      "cell_type": "code",
      "metadata": {
        "id": "4g4Hyh4SJd0x",
        "colab_type": "code",
        "colab": {
          "base_uri": "https://localhost:8080/",
          "height": 102
        },
        "outputId": "ce521f21-6014-4005-ba85-e0a0f3556a5c"
      },
      "source": [
        "for i in range(5):\n",
        "  print (i)"
      ],
      "execution_count": null,
      "outputs": [
        {
          "output_type": "stream",
          "text": [
            "0\n",
            "1\n",
            "2\n",
            "3\n",
            "4\n"
          ],
          "name": "stdout"
        }
      ]
    },
    {
      "cell_type": "code",
      "metadata": {
        "id": "dy6SzrszJiaD",
        "colab_type": "code",
        "colab": {
          "base_uri": "https://localhost:8080/",
          "height": 180
        },
        "outputId": "2366ca04-2ec9-445c-e857-402afa9fce31"
      },
      "source": [
        "#### Crear una lista con valores ingresados por usuario asi como tambien el tamaño de la lista\n",
        "lista1 = []\n",
        "n = eval(input('Ingrese tamaño de la lista :  '))\n"
      ],
      "execution_count": null,
      "outputs": [
        {
          "output_type": "stream",
          "text": [
            "Ingrese tamaño de la lista :  4\n",
            "Ingrese valor : 1\n",
            "Ingrese valor : \n"
          ],
          "name": "stdout"
        },
        {
          "output_type": "error",
          "ename": "SyntaxError",
          "evalue": "ignored",
          "traceback": [
            "\u001b[0;36m  File \u001b[0;32m\"<string>\"\u001b[0;36m, line \u001b[0;32munknown\u001b[0m\n\u001b[0;31m    \u001b[0m\n\u001b[0m    ^\u001b[0m\n\u001b[0;31mSyntaxError\u001b[0m\u001b[0;31m:\u001b[0m unexpected EOF while parsing\n"
          ]
        }
      ]
    },
    {
      "cell_type": "markdown",
      "metadata": {
        "id": "ASbqP-tsMsjc",
        "colab_type": "text"
      },
      "source": [
        "Funciones en Python\n",
        "=================\n",
        "\n",
        "Sintaxis para definir funciones\n",
        "-----------------------------\n",
        "\n",
        "Las funciones en Python utilizan la palabra clave ``def`` seguida del nombre de la función y los parametros entre paréntesis.\n",
        "terminado por dos puntos como en el ejemplo a seguir donde la funcion suma es definida para retornar la suma de\n",
        "sus dos parámetros. Observe que el cuerpo de la función es identado al definir la función:"
      ]
    },
    {
      "cell_type": "code",
      "metadata": {
        "id": "_9gCRUWtNWv8",
        "colab_type": "code",
        "colab": {}
      },
      "source": [
        ""
      ],
      "execution_count": null,
      "outputs": []
    },
    {
      "cell_type": "code",
      "metadata": {
        "id": "og98nm1HLbzP",
        "colab_type": "code",
        "colab": {}
      },
      "source": [
        "def say_hello():\n",
        "  print('Hola a todos')"
      ],
      "execution_count": null,
      "outputs": []
    },
    {
      "cell_type": "code",
      "metadata": {
        "id": "dTV4bg7tNMWz",
        "colab_type": "code",
        "colab": {}
      },
      "source": [
        "#### ----return----\n",
        "#### El uso de la sentencia return nos permite retornar\n",
        "#### un resultado que puede ser almacenado como variable.\n",
        "\n",
        "def mult(a,b):\n",
        "  return a*b"
      ],
      "execution_count": null,
      "outputs": []
    },
    {
      "cell_type": "code",
      "metadata": {
        "id": "t7zZwfW_Npq5",
        "colab_type": "code",
        "colab": {
          "base_uri": "https://localhost:8080/",
          "height": 34
        },
        "outputId": "032be68c-6f1c-4ffc-e19d-b5444316b28a"
      },
      "source": [
        "n= mult(2,3)\n",
        "type(n)"
      ],
      "execution_count": null,
      "outputs": [
        {
          "output_type": "execute_result",
          "data": {
            "text/plain": [
              "int"
            ]
          },
          "metadata": {
            "tags": []
          },
          "execution_count": 37
        }
      ]
    },
    {
      "cell_type": "code",
      "metadata": {
        "id": "q6iLLDCfNsSq",
        "colab_type": "code",
        "colab": {}
      },
      "source": [
        "def _factorial_(x):\n",
        "  fact = 1\n",
        "  if x < 0: print('Error matematico ')\n",
        "  elif x == 0 : return 1\n",
        "  else :\n",
        "    for i in list(range(x+1))[1:] : fact = fact*i\n",
        "  return fact"
      ],
      "execution_count": null,
      "outputs": []
    },
    {
      "cell_type": "code",
      "metadata": {
        "id": "_izdTn0H1oat",
        "colab_type": "code",
        "colab": {
          "base_uri": "https://localhost:8080/",
          "height": 34
        },
        "outputId": "8b7e52d0-c804-4530-e336-416e68bf5c5e"
      },
      "source": [
        ""
      ],
      "execution_count": null,
      "outputs": [
        {
          "output_type": "execute_result",
          "data": {
            "text/plain": [
              "720"
            ]
          },
          "metadata": {
            "tags": []
          },
          "execution_count": 43
        }
      ]
    },
    {
      "cell_type": "code",
      "metadata": {
        "id": "DBtcQHUs1qVj",
        "colab_type": "code",
        "colab": {}
      },
      "source": [
        ""
      ],
      "execution_count": null,
      "outputs": []
    }
  ]
}