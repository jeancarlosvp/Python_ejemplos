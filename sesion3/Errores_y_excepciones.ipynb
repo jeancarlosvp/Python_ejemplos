{
 "cells": [
  {
   "cell_type": "markdown",
   "metadata": {},
   "source": [
    "### Errores y excepciones\n",
    "\n",
    "Manejo de errores y excepciones:\n",
    "Ya se vio errores al estar programando, por ejemplo:\n"
   ]
  },
  {
   "cell_type": "code",
   "execution_count": null,
   "metadata": {
    "collapsed": true
   },
   "outputs": [],
   "source": [
    "print('hello)"
   ]
  },
  {
   "cell_type": "markdown",
   "metadata": {},
   "source": [
    "Acá obtenemos un SyntaxError, con una breve descripción del problema que se encontraba en EOL (End Of Line) mientras escaneaba la cadena de texto. Este error es suficiente para darnos cuenta de donde esta el problema, también nos indica el numero de línea donde ocurre, entonces sabemos que nos falto una comilla simple al final de la línea. Aprendiendo a identificar los erros ayudara para saber debugear el código mas rápido"
   ]
  },
  {
   "cell_type": "markdown",
   "metadata": {},
   "source": [
    "Este tipo de error se le denomina Excepcion. Aunque una sentencia o expresión este correcta su sintaxis, puede causar un error cuando se intente ejecutarla. Errores detectados durante su ejecución no son de consecuencia fatal."
   ]
  },
  {
   "cell_type": "markdown",
   "metadata": {},
   "source": [
    "try and except\n",
    "Este es el termino básico y la sintaxis usada para manejar los errores.\n",
    "El código que puede causar una excepción es encapsulado en el bloque de try y la forma en que manejamos la excepción se encapsula en except.\n",
    "´\n",
    " Por ejemplo:\n",
    "try:\n",
    "    You do your operations here...\n",
    "    ...\n",
    "except ExceptionI:\n",
    "   If there is ExceptionI, then execute this block.\n",
    "except ExceptionII:\n",
    "   If there is ExceptionII, then execute this block.\n",
    "   ...\n",
    "else:\n",
    "   If there is no exception then execute this block. \n",
    "\n",
    "´"
   ]
  },
  {
   "cell_type": "code",
   "execution_count": null,
   "metadata": {
    "collapsed": true
   },
   "outputs": [],
   "source": [
    "def add(n1,n2):\n",
    "    print(n1+n2)"
   ]
  },
  {
   "cell_type": "code",
   "execution_count": null,
   "metadata": {
    "collapsed": true
   },
   "outputs": [],
   "source": [
    "add(2,3)\n",
    "add(2,\"hello\")"
   ]
  },
  {
   "cell_type": "code",
   "execution_count": null,
   "metadata": {
    "collapsed": true
   },
   "outputs": [],
   "source": [
    "try:\n",
    "    #quiero intentar este codigo\n",
    "    #aunque tenga error\n",
    "    resulta = 10 +'10'\n",
    "    \n",
    "except:\n",
    "    print(\"Parece que estas sumando mal\")"
   ]
  },
  {
   "cell_type": "code",
   "execution_count": null,
   "metadata": {
    "collapsed": true
   },
   "outputs": [],
   "source": [
    "n = float(input(\"Introduce un numero : \"))\n",
    "m = 9\n",
    "print(m/n)"
   ]
  },
  {
   "cell_type": "code",
   "execution_count": null,
   "metadata": {
    "collapsed": true
   },
   "outputs": [],
   "source": []
  },
  {
   "cell_type": "code",
   "execution_count": null,
   "metadata": {
    "collapsed": true
   },
   "outputs": [],
   "source": [
    "try :\n",
    "    n = float(input(\"Introduce un numero : \"))\n",
    "    m = 9\n",
    "    print(m/n)\n",
    "except:\n",
    "    print(\"ha ocurrido un error\")\n",
    "    "
   ]
  },
  {
   "cell_type": "code",
   "execution_count": null,
   "metadata": {
    "collapsed": true
   },
   "outputs": [],
   "source": [
    "while(True):\n",
    "    try :\n",
    "        n = float(input(\"Introduce un numero : \"))\n",
    "        m = 9\n",
    "        print(m/n)\n",
    "        break #rompe la iteracion\n",
    "    except:\n",
    "        print(\"ha ocurrido un error\")"
   ]
  },
  {
   "cell_type": "code",
   "execution_count": null,
   "metadata": {
    "collapsed": true
   },
   "outputs": [],
   "source": [
    "\n",
    "while(True):\n",
    "    try :\n",
    "        n = float(input(\"Introduce un numero : \"))\n",
    "        m = 9\n",
    "        print(m/n)\n",
    "        \n",
    "    except:\n",
    "        print(\"ha ocurrido un error\")\n",
    "    else:\n",
    "        print(\"Todo ha funcionado correctamente\")\n",
    "        break #romper la iteracion\n",
    "    finally:\n",
    "        print(\"fin de la iteracion\")"
   ]
  },
  {
   "cell_type": "code",
   "execution_count": 14,
   "metadata": {
    "collapsed": true
   },
   "outputs": [],
   "source": [
    "def factorial_num(x):\n",
    "    if x == 0 or x ==1:\n",
    "        return 1\n",
    "    else:\n",
    "        return x*factorial_num(x-1)"
   ]
  },
  {
   "cell_type": "code",
   "execution_count": 16,
   "metadata": {},
   "outputs": [
    {
     "data": {
      "text/plain": [
       "120"
      ]
     },
     "execution_count": 16,
     "metadata": {},
     "output_type": "execute_result"
    }
   ],
   "source": [
    "factorial_num(5)"
   ]
  },
  {
   "cell_type": "code",
   "execution_count": 7,
   "metadata": {
    "scrolled": true
   },
   "outputs": [
    {
     "name": "stdout",
     "output_type": "stream",
     "text": [
      "Introduce un numero: 0\n",
      "ZeroDivisionError\n"
     ]
    }
   ],
   "source": [
    "try:\n",
    "    n = float(input(\"Introduce un numero: \" ))\n",
    "    5/n\n",
    "except Exception as e:\n",
    "    print(type(e).__name__)"
   ]
  },
  {
   "cell_type": "code",
   "execution_count": 11,
   "metadata": {},
   "outputs": [
    {
     "name": "stdout",
     "output_type": "stream",
     "text": [
      "Introduce un numero: 0\n",
      "Error matematico no es ddefinido la div entre 0\n"
     ]
    }
   ],
   "source": [
    "try:\n",
    "    n = float(input(\"Introduce un numero: \" ))\n",
    "    5/n\n",
    "    \n",
    "except TypeError:\n",
    "    print(\"No se puede dividir el numero por un string\")\n",
    "except ValueError:\n",
    "    print(\"Debes introducir una cadena que sea un numero\")\n",
    "except ZeroDivisionError:\n",
    "    print(\"Error matematico no es ddefinido la div entre 0\")\n",
    "except Exception as e:\n",
    "    print(type(e).__name__)\n",
    "    "
   ]
  },
  {
   "cell_type": "code",
   "execution_count": null,
   "metadata": {
    "collapsed": true
   },
   "outputs": [],
   "source": []
  }
 ],
 "metadata": {
  "kernelspec": {
   "display_name": "Python 3",
   "language": "python",
   "name": "python3"
  },
  "language_info": {
   "codemirror_mode": {
    "name": "ipython",
    "version": 3
   },
   "file_extension": ".py",
   "mimetype": "text/x-python",
   "name": "python",
   "nbconvert_exporter": "python",
   "pygments_lexer": "ipython3",
   "version": "3.6.0"
  }
 },
 "nbformat": 4,
 "nbformat_minor": 2
}
