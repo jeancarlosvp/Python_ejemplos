{
 "cells": [
  {
   "cell_type": "markdown",
   "metadata": {},
   "source": [
    "Funciones en Python\n",
    "=================\n",
    "\n",
    "Sintaxis para definir funciones\n",
    "-----------------------------\n",
    "\n",
    "Las funciones en Python utilizan la palabra clave ``def`` seguida del nombre de la función y los parametros entre paréntesis.\n",
    "terminado por dos puntos como en el ejemplo a seguir donde la funcion suma es definida para retornar la suma de\n",
    "sus dos parámetros. Observe que el cuerpo de la función es identado al definir la función:\n"
   ]
  },
  {
   "cell_type": "code",
   "execution_count": 1,
   "metadata": {},
   "outputs": [
    {
     "name": "stdout",
     "output_type": "stream",
     "text": [
      "Hola a todos\n"
     ]
    }
   ],
   "source": [
    "def saludo():\n",
    "    print(\"Hola a todos\")\n",
    "    \n",
    "saludo()"
   ]
  },
  {
   "cell_type": "code",
   "execution_count": 2,
   "metadata": {
    "collapsed": true
   },
   "outputs": [],
   "source": [
    "def suma(x = None):\n",
    "    \n",
    "    return x"
   ]
  },
  {
   "cell_type": "code",
   "execution_count": 3,
   "metadata": {
    "collapsed": true
   },
   "outputs": [],
   "source": [
    "suma()"
   ]
  },
  {
   "cell_type": "code",
   "execution_count": 4,
   "metadata": {},
   "outputs": [
    {
     "name": "stdout",
     "output_type": "stream",
     "text": [
      "9\n"
     ]
    }
   ],
   "source": [
    "def mult(a,b):\n",
    "    m = a*b\n",
    "    return m\n",
    "    \n",
    "    \n",
    "a = mult(2,4)\n",
    "print(a+1)"
   ]
  },
  {
   "cell_type": "code",
   "execution_count": null,
   "metadata": {
    "collapsed": true
   },
   "outputs": [],
   "source": [
    "def saludar():\n",
    "    print(\"hola a todos\")"
   ]
  },
  {
   "cell_type": "code",
   "execution_count": null,
   "metadata": {
    "collapsed": true
   },
   "outputs": [],
   "source": [
    "saludar()"
   ]
  },
  {
   "cell_type": "markdown",
   "metadata": {},
   "source": [
    "Para realizar la llamada de la funcion  ``suma``, basta utilizar su nombre asignandole los parámetros como argumentos de la función. Vea el ejemplo a seguir.\n"
   ]
  },
  {
   "cell_type": "code",
   "execution_count": null,
   "metadata": {
    "collapsed": true
   },
   "outputs": [],
   "source": [
    "r = suma(50, 20)\n",
    "print (r )"
   ]
  },
  {
   "cell_type": "markdown",
   "metadata": {},
   "source": [
    "[Ejemplos_iniciales](definicion_funciones.ipynb)"
   ]
  },
  {
   "cell_type": "markdown",
   "metadata": {},
   "source": [
    "### Variables locales"
   ]
  },
  {
   "cell_type": "markdown",
   "metadata": {},
   "source": [
    "Cuando se declaran variables dentro de la definicion de la funcion, estas no estan relacionadas en ninguna forma con otras variables el mismo nombre usado fuera de la función (los nombres de las variables son locales a la funcion). A esto se le llama el alcance de la variable. Todas las variables tienen el alcance del bloque en el que se declaran a partir del punto de definición del nombre."
   ]
  },
  {
   "cell_type": "code",
   "execution_count": 3,
   "metadata": {},
   "outputs": [
    {
     "name": "stdout",
     "output_type": "stream",
     "text": [
      "x es  50\n",
      "Cambio local de x a  3\n",
      "x es todavia:  50\n"
     ]
    }
   ],
   "source": [
    "x = 50\n",
    "\n",
    "def func(x):\n",
    "    print(\"x es \", x)\n",
    "    x = 3\n",
    "    print(\"Cambio local de x a \", x)\n",
    "    \n",
    "func(x)\n",
    "print(\"x es todavia: \", x)"
   ]
  },
  {
   "cell_type": "markdown",
   "metadata": {},
   "source": [
    "### Declaracion global"
   ]
  },
  {
   "cell_type": "markdown",
   "metadata": {},
   "source": [
    "Si se quiere asignar un valor a un nombre definido en el nivel superior del programa (\tno dentro de ninguun tipo de alcance tal como funciones o clases),\tluego le dirás a Python que el\tnombre no es local, pero es global. Hacemos esto usando la declaración global. Es imposible asignar un valor a una variable definida fuera de una función sin la declaración global.\n",
    "\n",
    "Puedes usar las variables de tales funciones definidas fuera de la funcion (asumiendo que no hay ninguna variable con el mismo nombre dentro de la función). Sin embargo,\testo no se recomienda y debe evitarse ya que no queda claro para el lector\tof\ttel programa en cuanto a donde la definición de esa variable es. Usar la declaración global deja bastante claro que la variable está definida en un bloque más externo.\n",
    "\n",
    "\n"
   ]
  },
  {
   "cell_type": "code",
   "execution_count": 4,
   "metadata": {},
   "outputs": [
    {
     "name": "stdout",
     "output_type": "stream",
     "text": [
      "y es  30\n",
      "Cambio global de y a  4\n",
      "el valor de y es :  4\n"
     ]
    }
   ],
   "source": [
    "y = 30\n",
    "\n",
    "def funct():\n",
    "    global y \n",
    "    print(\"y es \",y)\n",
    "    y = 4\n",
    "    print(\"Cambio global de y a \", y)\n",
    "    \n",
    "funct()\n",
    "print(\"el valor de y es : \", y)"
   ]
  },
  {
   "cell_type": "markdown",
   "metadata": {},
   "source": [
    "Parámetros de la función:\n",
    "---------------------------------\n",
    "Existen dos tipos de parámetros : posicional y con palabra clave. Los posicionales son aquellos que\n",
    "son identificados por el orden en el que aparecen en la lista de los parámetros de la función.\n",
    "Los de palabra clave, son identificados por ``nombre=``. Los parámetros por palabra clave pueden\n",
    "también ser posicionales, pero tienen una ventaja que si no fueran dados, asume el valor mencionado por defecto (*default*). Vea el ejemplo abajo:\n"
   ]
  },
  {
   "cell_type": "code",
   "execution_count": 15,
   "metadata": {
    "collapsed": true
   },
   "outputs": [],
   "source": [
    "def suma(  x  , y , squared=False):\n",
    "    if squared:\n",
    "        s = (x + y)**2\n",
    "    else:\n",
    "        s = (x + y)\n",
    "    return s"
   ]
  },
  {
   "cell_type": "code",
   "execution_count": 17,
   "metadata": {},
   "outputs": [
    {
     "data": {
      "text/plain": [
       "5"
      ]
     },
     "execution_count": 17,
     "metadata": {},
     "output_type": "execute_result"
    }
   ],
   "source": [
    "suma(2,3)"
   ]
  },
  {
   "cell_type": "markdown",
   "metadata": {},
   "source": [
    "Observe que los parámetros, ``x`` e ``y`` son posiciones y serán los dos primeros argumentos\n",
    "de la llamada de la función . El tercer parâmetro es por palabra clave y por tanto opcional , se \n",
    "puede usar tanto en la forma posicional, como en la forma explicita con la palabra clave. La\n",
    "gran ventaja en este esquema es que puedo tener un gran número de parámetros con la palabra clave \n",
    "y a la hora de usar la función dejar explicitamente solo los parametros deseados.\n",
    "\n",
    "Vea los ejemplos:"
   ]
  },
  {
   "cell_type": "code",
   "execution_count": 18,
   "metadata": {},
   "outputs": [
    {
     "name": "stdout",
     "output_type": "stream",
     "text": [
      "suma(2, 3): 5\n",
      "suma(2, 3, False): 5\n",
      "suma(2, 3, True): 25\n",
      "suma(2, 3, squared= True): 25\n"
     ]
    }
   ],
   "source": [
    "print ('suma(2, 3):', suma(2, 3) )\n",
    "print ('suma(2, 3, False):', suma(2, 3, False) )\n",
    "print ('suma(2, 3, True):', suma(2, 3, True)  )\n",
    "print ('suma(2, 3, squared= True):', suma(2, 3, squared= True)  )"
   ]
  },
  {
   "cell_type": "code",
   "execution_count": 24,
   "metadata": {},
   "outputs": [
    {
     "name": "stdout",
     "output_type": "stream",
     "text": [
      " \n"
     ]
    }
   ],
   "source": [
    "def say( mensaje = ' ', veces = 1):\n",
    "    print(mensaje*veces)\n",
    "    \n",
    "    \n",
    "say()"
   ]
  },
  {
   "cell_type": "code",
   "execution_count": null,
   "metadata": {
    "collapsed": true
   },
   "outputs": [],
   "source": [
    "### def func(a,b=5) es correcto\n",
    "### def func(a=5,b) incorrecto"
   ]
  },
  {
   "cell_type": "markdown",
   "metadata": {},
   "source": [
    "### Keyword arguments\n",
    "Si tu tienes algunas funcione con muchos parametros y quieres especificar solo uno de ellos, entonces tienes que dar los valores tales como el nombre (esto es llamado argumentos de palabra clave)\n",
    "Usamos el nombre(keyword) en lugar de la posición (que se ha usado anteriormente) para especificar los argumentos de la funcion.\n",
    "Hay dos ventajas  -uno , usar la funcion es más facil ya que no tenemos que preocuparnos por el orden de los argumentos. Dos ,\tpodemos asignar valores solo a los parámetros que deseamos, siempre que los otros parámetros tengan valores de argumento predeterminados\n"
   ]
  },
  {
   "cell_type": "code",
   "execution_count": null,
   "metadata": {
    "collapsed": true
   },
   "outputs": [],
   "source": [
    "def fun (a, b , c):\n",
    "    print(\"a es \", a, \" , b es \",b ,\"y c es \",c)\n",
    "    \n",
    "fun(a = 3,c = 4, b = 5)\n"
   ]
  },
  {
   "cell_type": "code",
   "execution_count": null,
   "metadata": {
    "collapsed": true
   },
   "outputs": [],
   "source": [
    "#### ----return----\n",
    "#### El uso de la sentencia return nos permite retornar\n",
    "#### un resultado que puede ser almacenado como variable.\n"
   ]
  },
  {
   "cell_type": "code",
   "execution_count": null,
   "metadata": {
    "collapsed": true
   },
   "outputs": [],
   "source": [
    "def min(x = None,y= None):\n",
    "    pass"
   ]
  },
  {
   "cell_type": "markdown",
   "metadata": {},
   "source": [
    "### Docstrings\n",
    "Python tiene una característica ingeniosa llamada cadenas de documentación, generalmente referida por su nombre más corto docstrings. DocStrings es una herramienta importante que debe utilizar, ya que ayuda a documentar mejor el programa y facilita su comprensión. Sorprendentemente, incluso podemos recuperar la cadena de documentos de, digamos una función, cuando el programa se está ejecutando."
   ]
  },
  {
   "cell_type": "code",
   "execution_count": null,
   "metadata": {
    "collapsed": true
   },
   "outputs": [],
   "source": [
    "def print_max(a,b):\n",
    "    '''\n",
    "    Esta funcion:\n",
    "    Imprime el maximo valor de 2 argumentos\n",
    "    los dos valores deben ser enteros\n",
    "    '''\n",
    "    if x>y:\n",
    "        print(\"x es maximo\")\n",
    "    else:\n",
    "        print(\"y es maximo\")"
   ]
  },
  {
   "cell_type": "code",
   "execution_count": null,
   "metadata": {
    "collapsed": true
   },
   "outputs": [],
   "source": [
    "print_max(3,5)\n",
    "print(print_max.__doc__)"
   ]
  },
  {
   "cell_type": "code",
   "execution_count": null,
   "metadata": {
    "collapsed": true
   },
   "outputs": [],
   "source": [
    "help(print_max)"
   ]
  },
  {
   "cell_type": "markdown",
   "metadata": {},
   "source": [
    "\n",
    "### Argumentos indeterminados : \n",
    "\n",
    "*args: Cuando el parámetro de una función comienza con un asterisco, permite el ingreso de un\n",
    "numero arbitrario de argumentos, y la funcion las toma como tupla.\n",
    "\n",
    "**kwargs: De igual manera Python ofrece una manera de manejar variables arbitrarias con argumentos \n",
    "clave , como si se crease un diccionario\n",
    "\n"
   ]
  },
  {
   "cell_type": "code",
   "execution_count": 26,
   "metadata": {
    "collapsed": true
   },
   "outputs": [],
   "source": [
    "def indeterminados_posicion(*args):\n",
    "    print(args)"
   ]
  },
  {
   "cell_type": "code",
   "execution_count": 27,
   "metadata": {},
   "outputs": [
    {
     "name": "stdout",
     "output_type": "stream",
     "text": [
      "(2, 'hola', 4, [2, 3])\n"
     ]
    }
   ],
   "source": [
    "indeterminados_posicion(2,\"hola\",4,[2,3])"
   ]
  },
  {
   "cell_type": "code",
   "execution_count": null,
   "metadata": {
    "collapsed": true
   },
   "outputs": [],
   "source": [
    "def indeterminados_nombre(**kwargs):\n",
    "    print(kwargs)\n",
    "    \n",
    "indeterminados_nombre(a=5,c = \"holamundo\",l = [1,4,5])"
   ]
  },
  {
   "cell_type": "code",
   "execution_count": 28,
   "metadata": {},
   "outputs": [
    {
     "name": "stdout",
     "output_type": "stream",
     "text": [
      "a es  10\n",
      " item  1\n",
      " item  2\n",
      " item  3\n",
      "Jack 1123\n",
      "Jean 1239\n"
     ]
    }
   ],
   "source": [
    "def total(a=5,*numeros,**telefono ):\n",
    "    print(\"a es \", a)\n",
    "    \n",
    "    #iteramos los items de la tupla\n",
    "    for item in numeros:\n",
    "        print(\" item \", item)\n",
    "        \n",
    "    #iteramos en el diccionario\n",
    "    for first, second in telefono.items():\n",
    "        print(first,second)\n",
    "        \n",
    "total(10,1,2,3,Jack = 1123, Jean = 1239)"
   ]
  },
  {
   "cell_type": "code",
   "execution_count": 31,
   "metadata": {
    "collapsed": true
   },
   "outputs": [],
   "source": [
    "def suma_total (*args):\n",
    "    sumat = 0\n",
    "    for i in args:\n",
    "        sumat = sumat + i\n",
    "    return sumat"
   ]
  },
  {
   "cell_type": "code",
   "execution_count": 32,
   "metadata": {},
   "outputs": [
    {
     "data": {
      "text/plain": [
       "32"
      ]
     },
     "execution_count": 32,
     "metadata": {},
     "output_type": "execute_result"
    }
   ],
   "source": [
    "suma_total(2,4,5,6,7,8)"
   ]
  }
 ],
 "metadata": {
  "kernelspec": {
   "display_name": "Python 3",
   "language": "python",
   "name": "python3"
  },
  "language_info": {
   "codemirror_mode": {
    "name": "ipython",
    "version": 3
   },
   "file_extension": ".py",
   "mimetype": "text/x-python",
   "name": "python",
   "nbconvert_exporter": "python",
   "pygments_lexer": "ipython3",
   "version": "3.6.0"
  }
 },
 "nbformat": 4,
 "nbformat_minor": 2
}
