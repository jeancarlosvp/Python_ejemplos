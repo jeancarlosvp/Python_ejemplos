{
  "nbformat": 4,
  "nbformat_minor": 0,
  "metadata": {
    "colab": {
      "name": "[3]Numpy_.ipynb",
      "provenance": [],
      "authorship_tag": "ABX9TyMNwfk6ZuVK2udYLsCTmMKM",
      "include_colab_link": true
    },
    "kernelspec": {
      "name": "python3",
      "display_name": "Python 3"
    }
  },
  "cells": [
    {
      "cell_type": "markdown",
      "metadata": {
        "id": "view-in-github",
        "colab_type": "text"
      },
      "source": [
        "<a href=\"https://colab.research.google.com/github/jeancarlosvp/Python_ejemplos/blob/master/%5B3%5DNumpy_.ipynb\" target=\"_parent\"><img src=\"https://colab.research.google.com/assets/colab-badge.svg\" alt=\"Open In Colab\"/></a>"
      ]
    },
    {
      "cell_type": "markdown",
      "metadata": {
        "id": "Top0emXA7cVp",
        "colab_type": "text"
      },
      "source": [
        "Introducción a NumPy \n",
        "===========\n",
        "\n",
        "tipo *ndarray*\n",
        "--------------------\n",
        "\n",
        "\n",
        "El tipo *ndarray*, o solo *array* es un arreglo de valores homogéneos, de dimensión N, indexados por una tupla de N enteros . \n",
        "Hay 3 datos esenciales asociados con un *ndarray*: el tipo de datos, sus dimensiones y sus propios datos. La propiedad *dtype* le permite conocer el tipo de datos\n",
        "mientras *shape* es una tupla que indica el tamaño de cada dimensión de la disposición. El acceso a los datos en sí debe hacerse mediante indexación, slicing o por la propia variable.\n",
        "\n",
        "\n",
        "\n",
        "Hay varias formas de crear una variable de tipo *ndarray*.\n",
        "Por ejemplo, es posible crear uno a partir de una lista (1D) o una lista de listas usando la función *array*.\n",
        "\n",
        "A continuación se muestra un vector de enteros con 5 elementos. Tenga en cuenta que el vector es una fila con 5 columnas. También tenga en cuenta que la forma es una tupla de un solo elemento (vea la coma que aparece, porque es una tupla).\n"
      ]
    },
    {
      "cell_type": "code",
      "metadata": {
        "id": "pFMdxkCV7iVP",
        "colab_type": "code",
        "colab": {
          "base_uri": "https://localhost:8080/",
          "height": 85
        },
        "outputId": "c1db2e5c-c5a2-4a39-d027-168bb758f9f2"
      },
      "source": [
        "import numpy as np\n",
        "a = np.array( [2,3,4,-1,-2] )\n",
        "print('Dimensiones: a.shape=', a.shape )\n",
        "print('Tipo de elementos: a.dtype=', a.dtype )\n",
        "print('Imprimiendo array completo:\\n a=',a )"
      ],
      "execution_count": null,
      "outputs": [
        {
          "output_type": "stream",
          "text": [
            "Dimensões: a.shape= (5,)\n",
            "Tipo dos elementos: a.dtype= int64\n",
            "Imprimindo o array completo:\n",
            " a= [ 2  3  4 -1 -2]\n"
          ],
          "name": "stdout"
        }
      ]
    },
    {
      "cell_type": "code",
      "metadata": {
        "id": "5156iaeT9nNU",
        "colab_type": "code",
        "colab": {
          "base_uri": "https://localhost:8080/",
          "height": 136
        },
        "outputId": "f4c78c90-8583-494b-9f56-0a0919018771"
      },
      "source": [
        "b = np.array( [ [1.5, 2.3, 5.2],\n",
        "                [4.2, 5.6, 4.4] ] )\n",
        "print('Un array bidimensional, dimensiones:(b.shape=', b.shape )\n",
        "print('Tipo de elementos: b.dtype', b.dtype )\n",
        "print('Número de columnas:', b.shape[-1] )\n",
        "print('Número de filas:', b.shape[-2] )\n",
        "print('Elementos, b=\\n', b )"
      ],
      "execution_count": null,
      "outputs": [
        {
          "output_type": "stream",
          "text": [
            "Un array bidimensional, dimensiones:(b.shape= (2, 3)\n",
            "Tipo de elementos: b.dtype float64\n",
            "Número de columnas: 3\n",
            "Número de filas: 2\n",
            "Elementos, b=\n",
            " [[1.5 2.3 5.2]\n",
            " [4.2 5.6 4.4]]\n"
          ],
          "name": "stdout"
        }
      ]
    },
    {
      "cell_type": "code",
      "metadata": {
        "id": "Gu6NVIfq9ti9",
        "colab_type": "code",
        "colab": {
          "base_uri": "https://localhost:8080/",
          "height": 306
        },
        "outputId": "5e757147-2dc5-4cdf-8924-0dcd2f658f39"
      },
      "source": [
        "###Inicializando arrays\n",
        "d = np.zeros( (2,4) )\n",
        "print('Array de 0s: \\n', d )\n",
        "\n",
        "d = np.ones( (3,2,5), dtype='int16' )    \n",
        "print('\\n\\nArray de 1s: \\n', d )\n",
        "\n",
        "d = np.empty( (2,3), 'bool' )\n",
        "print('Array no inicializado (vacio):\\n', d )"
      ],
      "execution_count": null,
      "outputs": [
        {
          "output_type": "stream",
          "text": [
            "Array de 0s: \n",
            " [[0. 0. 0. 0.]\n",
            " [0. 0. 0. 0.]]\n",
            "\n",
            "\n",
            "Array de 1s: \n",
            " [[[1 1 1 1 1]\n",
            "  [1 1 1 1 1]]\n",
            "\n",
            " [[1 1 1 1 1]\n",
            "  [1 1 1 1 1]]\n",
            "\n",
            " [[1 1 1 1 1]\n",
            "  [1 1 1 1 1]]]\n",
            "Array no inicializado (vacio):\n",
            " [[ True  True  True]\n",
            " [ True  True  True]]\n"
          ],
          "name": "stdout"
        }
      ]
    },
    {
      "cell_type": "code",
      "metadata": {
        "id": "0g0xxXor94uq",
        "colab_type": "code",
        "colab": {
          "base_uri": "https://localhost:8080/",
          "height": 85
        },
        "outputId": "423713d6-b1ab-49f8-caa4-dc4635c7de7f"
      },
      "source": [
        "#Creando arrays con valores secuenciales\n",
        "print('np.arange( 10) = ', np.arange(10) )\n",
        "print('np.arange( 3, 8) = ', np.arange(3,8) )\n",
        "print('np.arange( 0, 2, 0.5) = ', np.arange(0, 2, 0.5) )\n",
        "print('np.linspace( 0, 2, 5 ) = ', np.linspace( 0, 2, 5 ) )"
      ],
      "execution_count": null,
      "outputs": [
        {
          "output_type": "stream",
          "text": [
            "np.arange( 10) =  [0 1 2 3 4 5 6 7 8 9]\n",
            "np.arange( 3, 8) =  [3 4 5 6 7]\n",
            "np.arange( 0, 2, 0.5) =  [0.  0.5 1.  1.5]\n",
            "np.linspace( 0, 2, 5 ) =  [0.  0.5 1.  1.5 2. ]\n"
          ],
          "name": "stdout"
        }
      ]
    },
    {
      "cell_type": "code",
      "metadata": {
        "id": "5lE4MN0N-Rgt",
        "colab_type": "code",
        "colab": {
          "base_uri": "https://localhost:8080/",
          "height": 295
        },
        "outputId": "b2fc1b7f-0edc-4635-917b-62e45786b84d"
      },
      "source": [
        "import matplotlib.pyplot as plt \n"
      ],
      "execution_count": null,
      "outputs": [
        {
          "output_type": "display_data",
          "data": {
            "image/png": "[encoded data removed]",
            "text/plain": [
              "<Figure size 432x288 with 1 Axes>"
            ]
          },
          "metadata": {
            "tags": [],
            "needs_background": "light"
          }
        }
      ]
    },
    {
      "cell_type": "code",
      "metadata": {
        "id": "qZLW9kIO-s2n",
        "colab_type": "code",
        "colab": {}
      },
      "source": [
        ""
      ],
      "execution_count": null,
      "outputs": []
    }
  ]
}